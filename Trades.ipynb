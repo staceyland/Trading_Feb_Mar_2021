{
  "nbformat": 4,
  "nbformat_minor": 0,
  "metadata": {
    "colab": {
      "name": "Trades.ipynb",
      "provenance": [],
      "authorship_tag": "ABX9TyPfz2bP4ngHx5fYuDbKsboS",
      "include_colab_link": true
    },
    "kernelspec": {
      "name": "python3",
      "display_name": "Python 3"
    },
    "language_info": {
      "name": "python"
    }
  },
  "cells": [
    {
      "cell_type": "markdown",
      "metadata": {
        "id": "view-in-github",
        "colab_type": "text"
      },
      "source": [
        "<a href=\"https://colab.research.google.com/github/staceyland/Trading_Feb_Mar_2021/blob/main/Trades.ipynb\" target=\"_parent\"><img src=\"https://colab.research.google.com/assets/colab-badge.svg\" alt=\"Open In Colab\"/></a>"
      ]
    },
    {
      "cell_type": "markdown",
      "metadata": {
        "id": "xxv3LmEOT0Aw"
      },
      "source": [
        "I am going to analyze my trades from Febuary - March. Let's set up the notebook and import the data."
      ]
    },
    {
      "cell_type": "code",
      "metadata": {
        "id": "DVbxoXjuTwPl"
      },
      "source": [
        "import numpy as np\n",
        "import pandas as pd\n",
        "import matplotlib.pyplot as plt\n",
        "\n",
        "%matplotlib inline"
      ],
      "execution_count": 1,
      "outputs": []
    },
    {
      "cell_type": "code",
      "metadata": {
        "id": "ov3HYNckUFvk"
      },
      "source": [
        "Trades_raw = pd.read_csv('/content/Trades_feb-mar.csv')"
      ],
      "execution_count": 8,
      "outputs": []
    },
    {
      "cell_type": "markdown",
      "metadata": {
        "id": "Qzt3aG9tUj1G"
      },
      "source": [
        "Let's take a look at the data. We have the markets traded, the date/times, entries, lot size and the total profit. \n"
      ]
    },
    {
      "cell_type": "code",
      "metadata": {
        "colab": {
          "base_uri": "https://localhost:8080/",
          "height": 244
        },
        "id": "7EdBkmYkUmDm",
        "outputId": "477500c0-44f4-46d0-cac3-2a3d2eb01916"
      },
      "source": [
        "Trades_raw.head()"
      ],
      "execution_count": 9,
      "outputs": [
        {
          "output_type": "execute_result",
          "data": {
            "text/html": [
              "<div>\n",
              "<style scoped>\n",
              "    .dataframe tbody tr th:only-of-type {\n",
              "        vertical-align: middle;\n",
              "    }\n",
              "\n",
              "    .dataframe tbody tr th {\n",
              "        vertical-align: top;\n",
              "    }\n",
              "\n",
              "    .dataframe thead th {\n",
              "        text-align: right;\n",
              "    }\n",
              "</style>\n",
              "<table border=\"1\" class=\"dataframe\">\n",
              "  <thead>\n",
              "    <tr style=\"text-align: right;\">\n",
              "      <th></th>\n",
              "      <th>Close_Date</th>\n",
              "      <th>Symbol</th>\n",
              "      <th>Asset</th>\n",
              "      <th>Action</th>\n",
              "      <th>Profit_loss</th>\n",
              "      <th>Size</th>\n",
              "      <th>Point_Value</th>\n",
              "      <th>Entry_Date</th>\n",
              "      <th>Entry_Time</th>\n",
              "      <th>Entry_Price</th>\n",
              "      <th>Exit_Date</th>\n",
              "      <th>Exit_Time</th>\n",
              "      <th>Exit_Price</th>\n",
              "      <th>Notes</th>\n",
              "      <th>Unnamed: 14</th>\n",
              "    </tr>\n",
              "  </thead>\n",
              "  <tbody>\n",
              "    <tr>\n",
              "      <th>0</th>\n",
              "      <td>3/30/2021</td>\n",
              "      <td>ESM21</td>\n",
              "      <td>Futures</td>\n",
              "      <td>Sell</td>\n",
              "      <td>900.00</td>\n",
              "      <td>1.0</td>\n",
              "      <td>50.0</td>\n",
              "      <td>3/29/2021</td>\n",
              "      <td>NaN</td>\n",
              "      <td>3964.00000</td>\n",
              "      <td>3/30/2021</td>\n",
              "      <td>NaN</td>\n",
              "      <td>3946.00000</td>\n",
              "      <td>NaN</td>\n",
              "      <td>NaN</td>\n",
              "    </tr>\n",
              "    <tr>\n",
              "      <th>1</th>\n",
              "      <td>3/24/2021</td>\n",
              "      <td>AUDUSD</td>\n",
              "      <td>Forex</td>\n",
              "      <td>Buy</td>\n",
              "      <td>-48.96</td>\n",
              "      <td>18000.0</td>\n",
              "      <td>1.0</td>\n",
              "      <td>3/24/2021</td>\n",
              "      <td>NaN</td>\n",
              "      <td>0.76064</td>\n",
              "      <td>3/24/2021</td>\n",
              "      <td>NaN</td>\n",
              "      <td>0.75792</td>\n",
              "      <td>NaN</td>\n",
              "      <td>NaN</td>\n",
              "    </tr>\n",
              "    <tr>\n",
              "      <th>2</th>\n",
              "      <td>3/23/2021</td>\n",
              "      <td>M2KM21</td>\n",
              "      <td>Futures</td>\n",
              "      <td>Buy</td>\n",
              "      <td>-277.50</td>\n",
              "      <td>3.0</td>\n",
              "      <td>5.0</td>\n",
              "      <td>3/23/2021</td>\n",
              "      <td>NaN</td>\n",
              "      <td>2255.80000</td>\n",
              "      <td>3/23/2021</td>\n",
              "      <td>NaN</td>\n",
              "      <td>2237.30000</td>\n",
              "      <td>NaN</td>\n",
              "      <td>NaN</td>\n",
              "    </tr>\n",
              "    <tr>\n",
              "      <th>3</th>\n",
              "      <td>3/22/2021</td>\n",
              "      <td>6BJ21</td>\n",
              "      <td>Futures</td>\n",
              "      <td>Buy</td>\n",
              "      <td>337.50</td>\n",
              "      <td>3.0</td>\n",
              "      <td>62500.0</td>\n",
              "      <td>3/22/2021</td>\n",
              "      <td>NaN</td>\n",
              "      <td>1.38250</td>\n",
              "      <td>3/22/2021</td>\n",
              "      <td>NaN</td>\n",
              "      <td>1.38430</td>\n",
              "      <td>NaN</td>\n",
              "      <td>NaN</td>\n",
              "    </tr>\n",
              "    <tr>\n",
              "      <th>4</th>\n",
              "      <td>3/22/2021</td>\n",
              "      <td>ESM21</td>\n",
              "      <td>Futures</td>\n",
              "      <td>Buy</td>\n",
              "      <td>925.00</td>\n",
              "      <td>1.0</td>\n",
              "      <td>50.0</td>\n",
              "      <td>3/22/2021</td>\n",
              "      <td>NaN</td>\n",
              "      <td>3888.75000</td>\n",
              "      <td>3/22/2021</td>\n",
              "      <td>NaN</td>\n",
              "      <td>3907.25000</td>\n",
              "      <td>NaN</td>\n",
              "      <td>NaN</td>\n",
              "    </tr>\n",
              "  </tbody>\n",
              "</table>\n",
              "</div>"
            ],
            "text/plain": [
              "  Close_Date  Symbol    Asset Action  ...  Exit_Time  Exit_Price  Notes Unnamed: 14\n",
              "0  3/30/2021   ESM21  Futures   Sell  ...        NaN  3946.00000    NaN         NaN\n",
              "1  3/24/2021  AUDUSD    Forex    Buy  ...        NaN     0.75792    NaN         NaN\n",
              "2  3/23/2021  M2KM21  Futures    Buy  ...        NaN  2237.30000    NaN         NaN\n",
              "3  3/22/2021   6BJ21  Futures    Buy  ...        NaN     1.38430    NaN         NaN\n",
              "4  3/22/2021   ESM21  Futures    Buy  ...        NaN  3907.25000    NaN         NaN\n",
              "\n",
              "[5 rows x 15 columns]"
            ]
          },
          "metadata": {},
          "execution_count": 9
        }
      ]
    },
    {
      "cell_type": "markdown",
      "metadata": {
        "id": "B9tqE8fYVi3s"
      },
      "source": [
        "I'll clean up the data by removing the columns I don't need and view the remaining columns. "
      ]
    },
    {
      "cell_type": "code",
      "metadata": {
        "id": "MKDpxBfrVqSw"
      },
      "source": [
        "Trades = Trades_raw.drop(['Unnamed: 14', 'Notes'], axis=1)"
      ],
      "execution_count": 10,
      "outputs": []
    },
    {
      "cell_type": "code",
      "metadata": {
        "colab": {
          "base_uri": "https://localhost:8080/"
        },
        "id": "t-wJTqbyW9lg",
        "outputId": "9796fea2-50c8-4e57-da7e-e72617e03825"
      },
      "source": [
        "Trades.info()"
      ],
      "execution_count": null,
      "outputs": [
        {
          "output_type": "stream",
          "name": "stdout",
          "text": [
            "<class 'pandas.core.frame.DataFrame'>\n",
            "RangeIndex: 54 entries, 0 to 53\n",
            "Data columns (total 13 columns):\n",
            " #   Column       Non-Null Count  Dtype  \n",
            "---  ------       --------------  -----  \n",
            " 0   Close_Date   54 non-null     object \n",
            " 1   Symbol       54 non-null     object \n",
            " 2   Asset        54 non-null     object \n",
            " 3   Action       54 non-null     object \n",
            " 4   Profit_loss  54 non-null     float64\n",
            " 5   Size         53 non-null     float64\n",
            " 6   Point_Value  53 non-null     float64\n",
            " 7   Entry_Date   53 non-null     object \n",
            " 8   Entry_Time   24 non-null     object \n",
            " 9   Entry_Price  53 non-null     float64\n",
            " 10  Exit_Date    53 non-null     object \n",
            " 11  Exit_Time    24 non-null     object \n",
            " 12  Exit_Price   53 non-null     float64\n",
            "dtypes: float64(5), object(8)\n",
            "memory usage: 5.6+ KB\n"
          ]
        }
      ]
    },
    {
      "cell_type": "code",
      "metadata": {
        "colab": {
          "base_uri": "https://localhost:8080/",
          "height": 226
        },
        "id": "5WHGyD2OWjWk",
        "outputId": "d8849584-7ee9-4002-a99c-edcc1890bf4f"
      },
      "source": [
        "Trades.head()"
      ],
      "execution_count": 11,
      "outputs": [
        {
          "output_type": "execute_result",
          "data": {
            "text/html": [
              "<div>\n",
              "<style scoped>\n",
              "    .dataframe tbody tr th:only-of-type {\n",
              "        vertical-align: middle;\n",
              "    }\n",
              "\n",
              "    .dataframe tbody tr th {\n",
              "        vertical-align: top;\n",
              "    }\n",
              "\n",
              "    .dataframe thead th {\n",
              "        text-align: right;\n",
              "    }\n",
              "</style>\n",
              "<table border=\"1\" class=\"dataframe\">\n",
              "  <thead>\n",
              "    <tr style=\"text-align: right;\">\n",
              "      <th></th>\n",
              "      <th>Close_Date</th>\n",
              "      <th>Symbol</th>\n",
              "      <th>Asset</th>\n",
              "      <th>Action</th>\n",
              "      <th>Profit_loss</th>\n",
              "      <th>Size</th>\n",
              "      <th>Point_Value</th>\n",
              "      <th>Entry_Date</th>\n",
              "      <th>Entry_Time</th>\n",
              "      <th>Entry_Price</th>\n",
              "      <th>Exit_Date</th>\n",
              "      <th>Exit_Time</th>\n",
              "      <th>Exit_Price</th>\n",
              "    </tr>\n",
              "  </thead>\n",
              "  <tbody>\n",
              "    <tr>\n",
              "      <th>0</th>\n",
              "      <td>3/30/2021</td>\n",
              "      <td>ESM21</td>\n",
              "      <td>Futures</td>\n",
              "      <td>Sell</td>\n",
              "      <td>900.00</td>\n",
              "      <td>1.0</td>\n",
              "      <td>50.0</td>\n",
              "      <td>3/29/2021</td>\n",
              "      <td>NaN</td>\n",
              "      <td>3964.00000</td>\n",
              "      <td>3/30/2021</td>\n",
              "      <td>NaN</td>\n",
              "      <td>3946.00000</td>\n",
              "    </tr>\n",
              "    <tr>\n",
              "      <th>1</th>\n",
              "      <td>3/24/2021</td>\n",
              "      <td>AUDUSD</td>\n",
              "      <td>Forex</td>\n",
              "      <td>Buy</td>\n",
              "      <td>-48.96</td>\n",
              "      <td>18000.0</td>\n",
              "      <td>1.0</td>\n",
              "      <td>3/24/2021</td>\n",
              "      <td>NaN</td>\n",
              "      <td>0.76064</td>\n",
              "      <td>3/24/2021</td>\n",
              "      <td>NaN</td>\n",
              "      <td>0.75792</td>\n",
              "    </tr>\n",
              "    <tr>\n",
              "      <th>2</th>\n",
              "      <td>3/23/2021</td>\n",
              "      <td>M2KM21</td>\n",
              "      <td>Futures</td>\n",
              "      <td>Buy</td>\n",
              "      <td>-277.50</td>\n",
              "      <td>3.0</td>\n",
              "      <td>5.0</td>\n",
              "      <td>3/23/2021</td>\n",
              "      <td>NaN</td>\n",
              "      <td>2255.80000</td>\n",
              "      <td>3/23/2021</td>\n",
              "      <td>NaN</td>\n",
              "      <td>2237.30000</td>\n",
              "    </tr>\n",
              "    <tr>\n",
              "      <th>3</th>\n",
              "      <td>3/22/2021</td>\n",
              "      <td>6BJ21</td>\n",
              "      <td>Futures</td>\n",
              "      <td>Buy</td>\n",
              "      <td>337.50</td>\n",
              "      <td>3.0</td>\n",
              "      <td>62500.0</td>\n",
              "      <td>3/22/2021</td>\n",
              "      <td>NaN</td>\n",
              "      <td>1.38250</td>\n",
              "      <td>3/22/2021</td>\n",
              "      <td>NaN</td>\n",
              "      <td>1.38430</td>\n",
              "    </tr>\n",
              "    <tr>\n",
              "      <th>4</th>\n",
              "      <td>3/22/2021</td>\n",
              "      <td>ESM21</td>\n",
              "      <td>Futures</td>\n",
              "      <td>Buy</td>\n",
              "      <td>925.00</td>\n",
              "      <td>1.0</td>\n",
              "      <td>50.0</td>\n",
              "      <td>3/22/2021</td>\n",
              "      <td>NaN</td>\n",
              "      <td>3888.75000</td>\n",
              "      <td>3/22/2021</td>\n",
              "      <td>NaN</td>\n",
              "      <td>3907.25000</td>\n",
              "    </tr>\n",
              "  </tbody>\n",
              "</table>\n",
              "</div>"
            ],
            "text/plain": [
              "  Close_Date  Symbol    Asset  ...  Exit_Date  Exit_Time  Exit_Price\n",
              "0  3/30/2021   ESM21  Futures  ...  3/30/2021        NaN  3946.00000\n",
              "1  3/24/2021  AUDUSD    Forex  ...  3/24/2021        NaN     0.75792\n",
              "2  3/23/2021  M2KM21  Futures  ...  3/23/2021        NaN  2237.30000\n",
              "3  3/22/2021   6BJ21  Futures  ...  3/22/2021        NaN     1.38430\n",
              "4  3/22/2021   ESM21  Futures  ...  3/22/2021        NaN  3907.25000\n",
              "\n",
              "[5 rows x 13 columns]"
            ]
          },
          "metadata": {},
          "execution_count": 11
        }
      ]
    },
    {
      "cell_type": "markdown",
      "metadata": {
        "id": "UEKYIPEeW2Id"
      },
      "source": [
        "There are 54 trades. There are 43 futures trades and 11 forex trades. I went long on most of my trades. It must have been a bull market."
      ]
    },
    {
      "cell_type": "code",
      "metadata": {
        "colab": {
          "base_uri": "https://localhost:8080/"
        },
        "id": "mLK9sYYEWuis",
        "outputId": "9165e404-928c-4036-9933-f74b28f646fd"
      },
      "source": [
        "Trades.shape[0]"
      ],
      "execution_count": 12,
      "outputs": [
        {
          "output_type": "execute_result",
          "data": {
            "text/plain": [
              "54"
            ]
          },
          "metadata": {},
          "execution_count": 12
        }
      ]
    },
    {
      "cell_type": "code",
      "metadata": {
        "colab": {
          "base_uri": "https://localhost:8080/"
        },
        "id": "MbzBJeRxZKgy",
        "outputId": "cafdccc5-343f-4351-bcf8-ebcb36de3e12"
      },
      "source": [
        "Trades['Asset'].value_counts()"
      ],
      "execution_count": 15,
      "outputs": [
        {
          "output_type": "execute_result",
          "data": {
            "text/plain": [
              "Futures    43\n",
              "Forex      11\n",
              "Name: Asset, dtype: int64"
            ]
          },
          "metadata": {},
          "execution_count": 15
        }
      ]
    },
    {
      "cell_type": "code",
      "metadata": {
        "colab": {
          "base_uri": "https://localhost:8080/",
          "height": 375
        },
        "id": "FZlLEFh34Lqj",
        "outputId": "8fb2eda7-d942-4f59-f053-c66976d75092"
      },
      "source": [
        "Trades['Asset'].value_counts().plot(kind='pie', figsize=(6,6))"
      ],
      "execution_count": 16,
      "outputs": [
        {
          "output_type": "execute_result",
          "data": {
            "text/plain": [
              "<matplotlib.axes._subplots.AxesSubplot at 0x7f359fc001d0>"
            ]
          },
          "metadata": {},
          "execution_count": 16
        },
        {
          "output_type": "display_data",
          "data": {
            "image/png": "[encoded data removed]",
            "text/plain": [
              "<Figure size 432x432 with 1 Axes>"
            ]
          },
          "metadata": {}
        }
      ]
    },
    {
      "cell_type": "code",
      "metadata": {
        "colab": {
          "base_uri": "https://localhost:8080/",
          "height": 375
        },
        "id": "ahuSs5MmCFRk",
        "outputId": "570b99a2-c87e-40a4-8c58-3c8ad4c28c1a"
      },
      "source": [
        "Trades['Action'].value_counts().plot(kind='pie', figsize=(6,6))"
      ],
      "execution_count": 17,
      "outputs": [
        {
          "output_type": "execute_result",
          "data": {
            "text/plain": [
              "<matplotlib.axes._subplots.AxesSubplot at 0x7f359fd02150>"
            ]
          },
          "metadata": {},
          "execution_count": 17
        },
        {
          "output_type": "display_data",
          "data": {
            "image/png": "[encoded data removed]",
            "text/plain": [
              "<Figure size 432x432 with 1 Axes>"
            ]
          },
          "metadata": {}
        }
      ]
    },
    {
      "cell_type": "markdown",
      "metadata": {
        "id": "aeygZFJytkvN"
      },
      "source": [
        "Let's see which contracts I traded most often. Looks like the Micro E-mini Nasdaq-100 was most popular followed by the Canadian dollar futures, Platinum, and the Pound Aussie spot."
      ]
    },
    {
      "cell_type": "code",
      "metadata": {
        "colab": {
          "base_uri": "https://localhost:8080/"
        },
        "id": "bU48fTHa1nAK",
        "outputId": "38e190be-6661-4b6f-ce0f-8eb5cafb44e9"
      },
      "source": [
        "Trades['Symbol'].value_counts()"
      ],
      "execution_count": 25,
      "outputs": [
        {
          "output_type": "execute_result",
          "data": {
            "text/plain": [
              "MNQH21    5\n",
              "GBPAUD    3\n",
              "PLH21     3\n",
              "6CH21     3\n",
              "EURAUD    2\n",
              "RTYH21    2\n",
              "ESM21     2\n",
              "6BM21     2\n",
              "6AH21     2\n",
              "ZFM21     2\n",
              "USDJPY    1\n",
              "6BJ21     1\n",
              "ZNM21     1\n",
              "MESH21    1\n",
              "6BH21     1\n",
              "ZFH21     1\n",
              "GCH21     1\n",
              "MYMH21    1\n",
              "PLJ21     1\n",
              "GBPCHF    1\n",
              "EURUSD    1\n",
              "SIK21     1\n",
              "6NH21     1\n",
              "NQJ21     1\n",
              "EURJPY    1\n",
              "HGK21     1\n",
              "ZBM21     1\n",
              "MNQM21    1\n",
              "AUDCAD    1\n",
              "CLJ21     1\n",
              "AUDUSD    1\n",
              "HOJ21     1\n",
              "EURNZD    1\n",
              "NQM21     1\n",
              "SIH21     1\n",
              "6CJ21     1\n",
              "ESH21     1\n",
              "M2KM21    1\n",
              "Name: Symbol, dtype: int64"
            ]
          },
          "metadata": {},
          "execution_count": 25
        }
      ]
    },
    {
      "cell_type": "markdown",
      "metadata": {
        "id": "VSYoAhOcuniS"
      },
      "source": [
        "Let's check out my profits and losses based on each symbol. I aim to keep a stop loss of $300 or less and aim for profits of at least 3:1. For the most part I remained consistent to my trade plan."
      ]
    },
    {
      "cell_type": "code",
      "metadata": {
        "colab": {
          "base_uri": "https://localhost:8080/",
          "height": 419
        },
        "id": "aBszg8YO4yTf",
        "outputId": "aa2ae6fa-97f3-4a7a-a716-39efb042b621"
      },
      "source": [
        "Trades.plot(kind='scatter', x='Symbol', y='Profit_loss', figsize=(12,6))\n",
        "x = np.arange(0, 40, 1)\n",
        "y = np.sin(x)\n",
        "plt.plot(x, y)\n",
        "plt.xticks(rotation = 45)\n",
        "plt.show()"
      ],
      "execution_count": 19,
      "outputs": [
        {
          "output_type": "display_data",
          "data": {
            "image/png": "[encoded data removed]",
            "text/plain": [
              "<Figure size 864x432 with 1 Axes>"
            ]
          },
          "metadata": {
            "needs_background": "light"
          }
        }
      ]
    },
    {
      "cell_type": "code",
      "metadata": {
        "colab": {
          "base_uri": "https://localhost:8080/",
          "height": 507
        },
        "id": "3a4io5d05dXE",
        "outputId": "e9065451-ed63-43a9-c821-562b322ac09b"
      },
      "source": [
        "Trades[['Profit_loss', 'Symbol']].boxplot(by='Symbol', figsize=(18,6))\n",
        "x = np.arange(0, 40, 1)\n",
        "y = np.sin(x)\n",
        "plt.plot(x, y)\n",
        "plt.xticks(rotation = 45)\n",
        "plt.show()"
      ],
      "execution_count": 26,
      "outputs": [
        {
          "output_type": "stream",
          "name": "stderr",
          "text": [
            "/usr/local/lib/python3.7/dist-packages/numpy/core/_asarray.py:83: VisibleDeprecationWarning: Creating an ndarray from ragged nested sequences (which is a list-or-tuple of lists-or-tuples-or ndarrays with different lengths or shapes) is deprecated. If you meant to do this, you must specify 'dtype=object' when creating the ndarray\n",
            "  return array(a, dtype, copy=False, order=order)\n"
          ]
        },
        {
          "output_type": "display_data",
          "data": {
            "image/png": "[encoded data removed]",
            "text/plain": [
              "<Figure size 1296x432 with 1 Axes>"
            ]
          },
          "metadata": {
            "needs_background": "light"
          }
        }
      ]
    },
    {
      "cell_type": "markdown",
      "metadata": {
        "id": "_GbmAxtqwAVC"
      },
      "source": [
        "Let's take a look at my profitable trades. "
      ]
    },
    {
      "cell_type": "code",
      "metadata": {
        "colab": {
          "base_uri": "https://localhost:8080/",
          "height": 728
        },
        "id": "fzNAFfXb7BrY",
        "outputId": "feb70aeb-afa8-491a-8db7-aa5b2f789c10"
      },
      "source": [
        "Trades_profit = Trades.loc[(Trades['Profit_loss'] >= 0)]\n",
        "Trades_profit"
      ],
      "execution_count": 27,
      "outputs": [
        {
          "output_type": "execute_result",
          "data": {
            "text/html": [
              "<div>\n",
              "<style scoped>\n",
              "    .dataframe tbody tr th:only-of-type {\n",
              "        vertical-align: middle;\n",
              "    }\n",
              "\n",
              "    .dataframe tbody tr th {\n",
              "        vertical-align: top;\n",
              "    }\n",
              "\n",
              "    .dataframe thead th {\n",
              "        text-align: right;\n",
              "    }\n",
              "</style>\n",
              "<table border=\"1\" class=\"dataframe\">\n",
              "  <thead>\n",
              "    <tr style=\"text-align: right;\">\n",
              "      <th></th>\n",
              "      <th>Close_Date</th>\n",
              "      <th>Symbol</th>\n",
              "      <th>Asset</th>\n",
              "      <th>Action</th>\n",
              "      <th>Profit_loss</th>\n",
              "      <th>Size</th>\n",
              "      <th>Point_Value</th>\n",
              "      <th>Entry_Date</th>\n",
              "      <th>Entry_Time</th>\n",
              "      <th>Entry_Price</th>\n",
              "      <th>Exit_Date</th>\n",
              "      <th>Exit_Time</th>\n",
              "      <th>Exit_Price</th>\n",
              "    </tr>\n",
              "  </thead>\n",
              "  <tbody>\n",
              "    <tr>\n",
              "      <th>0</th>\n",
              "      <td>3/30/2021</td>\n",
              "      <td>ESM21</td>\n",
              "      <td>Futures</td>\n",
              "      <td>Sell</td>\n",
              "      <td>900.000000</td>\n",
              "      <td>1.0</td>\n",
              "      <td>50.000000</td>\n",
              "      <td>3/29/2021</td>\n",
              "      <td>NaN</td>\n",
              "      <td>3964.00000</td>\n",
              "      <td>3/30/2021</td>\n",
              "      <td>NaN</td>\n",
              "      <td>3946.00000</td>\n",
              "    </tr>\n",
              "    <tr>\n",
              "      <th>3</th>\n",
              "      <td>3/22/2021</td>\n",
              "      <td>6BJ21</td>\n",
              "      <td>Futures</td>\n",
              "      <td>Buy</td>\n",
              "      <td>337.500000</td>\n",
              "      <td>3.0</td>\n",
              "      <td>62500.000000</td>\n",
              "      <td>3/22/2021</td>\n",
              "      <td>NaN</td>\n",
              "      <td>1.38250</td>\n",
              "      <td>3/22/2021</td>\n",
              "      <td>NaN</td>\n",
              "      <td>1.38430</td>\n",
              "    </tr>\n",
              "    <tr>\n",
              "      <th>4</th>\n",
              "      <td>3/22/2021</td>\n",
              "      <td>ESM21</td>\n",
              "      <td>Futures</td>\n",
              "      <td>Buy</td>\n",
              "      <td>925.000000</td>\n",
              "      <td>1.0</td>\n",
              "      <td>50.000000</td>\n",
              "      <td>3/22/2021</td>\n",
              "      <td>NaN</td>\n",
              "      <td>3888.75000</td>\n",
              "      <td>3/22/2021</td>\n",
              "      <td>NaN</td>\n",
              "      <td>3907.25000</td>\n",
              "    </tr>\n",
              "    <tr>\n",
              "      <th>7</th>\n",
              "      <td>3/17/2021</td>\n",
              "      <td>6CJ21</td>\n",
              "      <td>Futures</td>\n",
              "      <td>Buy</td>\n",
              "      <td>585.000000</td>\n",
              "      <td>1.0</td>\n",
              "      <td>100000.000000</td>\n",
              "      <td>3/17/2021</td>\n",
              "      <td>NaN</td>\n",
              "      <td>0.80105</td>\n",
              "      <td>3/17/2021</td>\n",
              "      <td>NaN</td>\n",
              "      <td>0.80690</td>\n",
              "    </tr>\n",
              "    <tr>\n",
              "      <th>8</th>\n",
              "      <td>3/17/2021</td>\n",
              "      <td>PLJ21</td>\n",
              "      <td>Futures</td>\n",
              "      <td>Buy</td>\n",
              "      <td>900.000000</td>\n",
              "      <td>3.0</td>\n",
              "      <td>50.000000</td>\n",
              "      <td>3/17/2021</td>\n",
              "      <td>NaN</td>\n",
              "      <td>1190.00000</td>\n",
              "      <td>3/17/2021</td>\n",
              "      <td>NaN</td>\n",
              "      <td>1196.00000</td>\n",
              "    </tr>\n",
              "    <tr>\n",
              "      <th>15</th>\n",
              "      <td>3/15/2021</td>\n",
              "      <td>MNQM21</td>\n",
              "      <td>Futures</td>\n",
              "      <td>Sell</td>\n",
              "      <td>840.000000</td>\n",
              "      <td>7.0</td>\n",
              "      <td>2.000000</td>\n",
              "      <td>3/15/2021</td>\n",
              "      <td>10:45 AM</td>\n",
              "      <td>12959.25000</td>\n",
              "      <td>3/15/2021</td>\n",
              "      <td>11:25 AM</td>\n",
              "      <td>12899.25000</td>\n",
              "    </tr>\n",
              "    <tr>\n",
              "      <th>17</th>\n",
              "      <td>3/15/2021</td>\n",
              "      <td>EURAUD</td>\n",
              "      <td>Forex</td>\n",
              "      <td>Sell</td>\n",
              "      <td>149.243704</td>\n",
              "      <td>83000.0</td>\n",
              "      <td>0.771724</td>\n",
              "      <td>3/15/2021</td>\n",
              "      <td>NaN</td>\n",
              "      <td>1.54555</td>\n",
              "      <td>3/15/2021</td>\n",
              "      <td>NaN</td>\n",
              "      <td>1.54322</td>\n",
              "    </tr>\n",
              "    <tr>\n",
              "      <th>19</th>\n",
              "      <td>3/15/2021</td>\n",
              "      <td>ZFM21</td>\n",
              "      <td>Futures</td>\n",
              "      <td>Buy</td>\n",
              "      <td>818.400000</td>\n",
              "      <td>12.0</td>\n",
              "      <td>1000.000000</td>\n",
              "      <td>3/15/2021</td>\n",
              "      <td>NaN</td>\n",
              "      <td>123.70000</td>\n",
              "      <td>3/15/2021</td>\n",
              "      <td>NaN</td>\n",
              "      <td>123.76820</td>\n",
              "    </tr>\n",
              "    <tr>\n",
              "      <th>22</th>\n",
              "      <td>3/8/2021</td>\n",
              "      <td>RTYH21</td>\n",
              "      <td>Futures</td>\n",
              "      <td>Sell</td>\n",
              "      <td>360.000000</td>\n",
              "      <td>1.0</td>\n",
              "      <td>50.000000</td>\n",
              "      <td>3/8/2021</td>\n",
              "      <td>NaN</td>\n",
              "      <td>2231.30000</td>\n",
              "      <td>3/8/2021</td>\n",
              "      <td>NaN</td>\n",
              "      <td>2224.10000</td>\n",
              "    </tr>\n",
              "    <tr>\n",
              "      <th>23</th>\n",
              "      <td>3/3/2021</td>\n",
              "      <td>MNQH21</td>\n",
              "      <td>Futures</td>\n",
              "      <td>Buy</td>\n",
              "      <td>1074.500000</td>\n",
              "      <td>7.0</td>\n",
              "      <td>2.000000</td>\n",
              "      <td>3/3/2021</td>\n",
              "      <td>10:15 AM</td>\n",
              "      <td>12965.25000</td>\n",
              "      <td>3/3/2021</td>\n",
              "      <td>10:30 AM</td>\n",
              "      <td>13042.00000</td>\n",
              "    </tr>\n",
              "    <tr>\n",
              "      <th>25</th>\n",
              "      <td>3/1/2021</td>\n",
              "      <td>RTYH21</td>\n",
              "      <td>Futures</td>\n",
              "      <td>Sell</td>\n",
              "      <td>810.000000</td>\n",
              "      <td>1.0</td>\n",
              "      <td>50.000000</td>\n",
              "      <td>3/1/2021</td>\n",
              "      <td>3:30 PM</td>\n",
              "      <td>2276.40000</td>\n",
              "      <td>3/1/2021</td>\n",
              "      <td>10:45 PM</td>\n",
              "      <td>2260.20000</td>\n",
              "    </tr>\n",
              "    <tr>\n",
              "      <th>26</th>\n",
              "      <td>3/1/2021</td>\n",
              "      <td>SIH21</td>\n",
              "      <td>Futures</td>\n",
              "      <td>Buy</td>\n",
              "      <td>675.000000</td>\n",
              "      <td>1.0</td>\n",
              "      <td>5000.000000</td>\n",
              "      <td>3/1/2021</td>\n",
              "      <td>5:35 AM</td>\n",
              "      <td>26.84500</td>\n",
              "      <td>3/1/2021</td>\n",
              "      <td>8:15 AM</td>\n",
              "      <td>26.98000</td>\n",
              "    </tr>\n",
              "    <tr>\n",
              "      <th>27</th>\n",
              "      <td>2/28/2021</td>\n",
              "      <td>EURNZD</td>\n",
              "      <td>Forex</td>\n",
              "      <td>Sell</td>\n",
              "      <td>136.793170</td>\n",
              "      <td>20000.0</td>\n",
              "      <td>0.726850</td>\n",
              "      <td>2/26/2021</td>\n",
              "      <td>12:00 PM</td>\n",
              "      <td>1.66991</td>\n",
              "      <td>2/28/2021</td>\n",
              "      <td>9:20 PM</td>\n",
              "      <td>1.66050</td>\n",
              "    </tr>\n",
              "    <tr>\n",
              "      <th>28</th>\n",
              "      <td>3/1/2021</td>\n",
              "      <td>EURJPY</td>\n",
              "      <td>Futures</td>\n",
              "      <td>Buy</td>\n",
              "      <td>112.320000</td>\n",
              "      <td>20000.0</td>\n",
              "      <td>1.872000</td>\n",
              "      <td>3/1/2021</td>\n",
              "      <td>NaN</td>\n",
              "      <td>127.86700</td>\n",
              "      <td>3/1/2021</td>\n",
              "      <td>NaN</td>\n",
              "      <td>127.87000</td>\n",
              "    </tr>\n",
              "    <tr>\n",
              "      <th>31</th>\n",
              "      <td>2/26/2021</td>\n",
              "      <td>MYMH21</td>\n",
              "      <td>Futures</td>\n",
              "      <td>Sell</td>\n",
              "      <td>910.000000</td>\n",
              "      <td>5.0</td>\n",
              "      <td>0.500000</td>\n",
              "      <td>2/26/2021</td>\n",
              "      <td>1:15 PM</td>\n",
              "      <td>31246.00000</td>\n",
              "      <td>2/26/2021</td>\n",
              "      <td>5:00 PM</td>\n",
              "      <td>30882.00000</td>\n",
              "    </tr>\n",
              "    <tr>\n",
              "      <th>38</th>\n",
              "      <td>2/25/2021</td>\n",
              "      <td>MNQH21</td>\n",
              "      <td>Futures</td>\n",
              "      <td>Sell</td>\n",
              "      <td>1662.000000</td>\n",
              "      <td>4.0</td>\n",
              "      <td>2.000000</td>\n",
              "      <td>2/25/2021</td>\n",
              "      <td>12:00 PM</td>\n",
              "      <td>13140.25000</td>\n",
              "      <td>2/25/2021</td>\n",
              "      <td>1:30 PM</td>\n",
              "      <td>12932.50000</td>\n",
              "    </tr>\n",
              "    <tr>\n",
              "      <th>43</th>\n",
              "      <td>2/24/2021</td>\n",
              "      <td>PLH21</td>\n",
              "      <td>Futures</td>\n",
              "      <td>Buy</td>\n",
              "      <td>915.000000</td>\n",
              "      <td>3.0</td>\n",
              "      <td>50.000000</td>\n",
              "      <td>2/24/2021</td>\n",
              "      <td>7:00 PM</td>\n",
              "      <td>1267.70000</td>\n",
              "      <td>2/24/2021</td>\n",
              "      <td>7:30 PM</td>\n",
              "      <td>1273.80000</td>\n",
              "    </tr>\n",
              "    <tr>\n",
              "      <th>44</th>\n",
              "      <td>2/24/2021</td>\n",
              "      <td>PLH21</td>\n",
              "      <td>Futures</td>\n",
              "      <td>Buy</td>\n",
              "      <td>915.000000</td>\n",
              "      <td>3.0</td>\n",
              "      <td>50.000000</td>\n",
              "      <td>2/24/2021</td>\n",
              "      <td>7:00 PM</td>\n",
              "      <td>1267.70000</td>\n",
              "      <td>2/24/2021</td>\n",
              "      <td>7:30 PM</td>\n",
              "      <td>1273.80000</td>\n",
              "    </tr>\n",
              "    <tr>\n",
              "      <th>46</th>\n",
              "      <td>2/24/2021</td>\n",
              "      <td>USDJPY</td>\n",
              "      <td>Forex</td>\n",
              "      <td>Buy</td>\n",
              "      <td>159.570000</td>\n",
              "      <td>27000.0</td>\n",
              "      <td>0.010000</td>\n",
              "      <td>2/22/2021</td>\n",
              "      <td>11:00 AM</td>\n",
              "      <td>105.04900</td>\n",
              "      <td>2/24/2021</td>\n",
              "      <td>4:30 PM</td>\n",
              "      <td>105.64000</td>\n",
              "    </tr>\n",
              "    <tr>\n",
              "      <th>50</th>\n",
              "      <td>2/24/2021</td>\n",
              "      <td>ZFH21</td>\n",
              "      <td>Futures</td>\n",
              "      <td>Sell</td>\n",
              "      <td>250.000000</td>\n",
              "      <td>NaN</td>\n",
              "      <td>NaN</td>\n",
              "      <td>NaN</td>\n",
              "      <td>NaN</td>\n",
              "      <td>NaN</td>\n",
              "      <td>NaN</td>\n",
              "      <td>NaN</td>\n",
              "      <td>NaN</td>\n",
              "    </tr>\n",
              "    <tr>\n",
              "      <th>51</th>\n",
              "      <td>2/23/2021</td>\n",
              "      <td>GBPCHF</td>\n",
              "      <td>Forex</td>\n",
              "      <td>Buy</td>\n",
              "      <td>115.440000</td>\n",
              "      <td>10000.0</td>\n",
              "      <td>1.110000</td>\n",
              "      <td>2/22/2021</td>\n",
              "      <td>3:00 AM</td>\n",
              "      <td>1.25663</td>\n",
              "      <td>2/23/2021</td>\n",
              "      <td>5:30 AM</td>\n",
              "      <td>1.26703</td>\n",
              "    </tr>\n",
              "  </tbody>\n",
              "</table>\n",
              "</div>"
            ],
            "text/plain": [
              "   Close_Date  Symbol    Asset  ...  Exit_Date  Exit_Time   Exit_Price\n",
              "0   3/30/2021   ESM21  Futures  ...  3/30/2021        NaN   3946.00000\n",
              "3   3/22/2021   6BJ21  Futures  ...  3/22/2021        NaN      1.38430\n",
              "4   3/22/2021   ESM21  Futures  ...  3/22/2021        NaN   3907.25000\n",
              "7   3/17/2021   6CJ21  Futures  ...  3/17/2021        NaN      0.80690\n",
              "8   3/17/2021   PLJ21  Futures  ...  3/17/2021        NaN   1196.00000\n",
              "15  3/15/2021  MNQM21  Futures  ...  3/15/2021   11:25 AM  12899.25000\n",
              "17  3/15/2021  EURAUD    Forex  ...  3/15/2021        NaN      1.54322\n",
              "19  3/15/2021   ZFM21  Futures  ...  3/15/2021        NaN    123.76820\n",
              "22   3/8/2021  RTYH21  Futures  ...   3/8/2021        NaN   2224.10000\n",
              "23   3/3/2021  MNQH21  Futures  ...   3/3/2021   10:30 AM  13042.00000\n",
              "25   3/1/2021  RTYH21  Futures  ...   3/1/2021   10:45 PM   2260.20000\n",
              "26   3/1/2021   SIH21  Futures  ...   3/1/2021    8:15 AM     26.98000\n",
              "27  2/28/2021  EURNZD    Forex  ...  2/28/2021    9:20 PM      1.66050\n",
              "28   3/1/2021  EURJPY  Futures  ...   3/1/2021        NaN    127.87000\n",
              "31  2/26/2021  MYMH21  Futures  ...  2/26/2021    5:00 PM  30882.00000\n",
              "38  2/25/2021  MNQH21  Futures  ...  2/25/2021    1:30 PM  12932.50000\n",
              "43  2/24/2021   PLH21  Futures  ...  2/24/2021    7:30 PM   1273.80000\n",
              "44  2/24/2021   PLH21  Futures  ...  2/24/2021    7:30 PM   1273.80000\n",
              "46  2/24/2021  USDJPY    Forex  ...  2/24/2021    4:30 PM    105.64000\n",
              "50  2/24/2021   ZFH21  Futures  ...        NaN        NaN          NaN\n",
              "51  2/23/2021  GBPCHF    Forex  ...  2/23/2021    5:30 AM      1.26703\n",
              "\n",
              "[21 rows x 13 columns]"
            ]
          },
          "metadata": {},
          "execution_count": 27
        }
      ]
    },
    {
      "cell_type": "code",
      "metadata": {
        "colab": {
          "base_uri": "https://localhost:8080/"
        },
        "id": "bmRguek65NjG",
        "outputId": "0a8bd95a-c0fc-4032-914f-b9b96a97dc96"
      },
      "source": [
        "Trades_profit.shape[0]"
      ],
      "execution_count": 28,
      "outputs": [
        {
          "output_type": "execute_result",
          "data": {
            "text/plain": [
              "21"
            ]
          },
          "metadata": {},
          "execution_count": 28
        }
      ]
    },
    {
      "cell_type": "code",
      "metadata": {
        "colab": {
          "base_uri": "https://localhost:8080/"
        },
        "id": "uxCExZN52NuC",
        "outputId": "9800d612-1b6e-49c0-da6a-c21d039d7429"
      },
      "source": [
        "Trades_profit['Profit_loss'].mean()"
      ],
      "execution_count": 29,
      "outputs": [
        {
          "output_type": "execute_result",
          "data": {
            "text/plain": [
              "645.2746130666667"
            ]
          },
          "metadata": {},
          "execution_count": 29
        }
      ]
    },
    {
      "cell_type": "markdown",
      "metadata": {
        "id": "O_KQy0tg5of3"
      },
      "source": [
        "I had 21 winning trades with an average profit of $645. Now let's look at the losers."
      ]
    },
    {
      "cell_type": "code",
      "metadata": {
        "colab": {
          "base_uri": "https://localhost:8080/",
          "height": 1000
        },
        "id": "aCY8Kqsn5y12",
        "outputId": "75a5b6c1-cea7-4f25-fbaf-de2c3d11f3c5"
      },
      "source": [
        "Trades_loss = Trades.loc[(Trades['Profit_loss'] < 0)]\n",
        "Trades_loss"
      ],
      "execution_count": 31,
      "outputs": [
        {
          "output_type": "execute_result",
          "data": {
            "text/html": [
              "<div>\n",
              "<style scoped>\n",
              "    .dataframe tbody tr th:only-of-type {\n",
              "        vertical-align: middle;\n",
              "    }\n",
              "\n",
              "    .dataframe tbody tr th {\n",
              "        vertical-align: top;\n",
              "    }\n",
              "\n",
              "    .dataframe thead th {\n",
              "        text-align: right;\n",
              "    }\n",
              "</style>\n",
              "<table border=\"1\" class=\"dataframe\">\n",
              "  <thead>\n",
              "    <tr style=\"text-align: right;\">\n",
              "      <th></th>\n",
              "      <th>Close_Date</th>\n",
              "      <th>Symbol</th>\n",
              "      <th>Asset</th>\n",
              "      <th>Action</th>\n",
              "      <th>Profit_loss</th>\n",
              "      <th>Size</th>\n",
              "      <th>Point_Value</th>\n",
              "      <th>Entry_Date</th>\n",
              "      <th>Entry_Time</th>\n",
              "      <th>Entry_Price</th>\n",
              "      <th>Exit_Date</th>\n",
              "      <th>Exit_Time</th>\n",
              "      <th>Exit_Price</th>\n",
              "    </tr>\n",
              "  </thead>\n",
              "  <tbody>\n",
              "    <tr>\n",
              "      <th>1</th>\n",
              "      <td>3/24/2021</td>\n",
              "      <td>AUDUSD</td>\n",
              "      <td>Forex</td>\n",
              "      <td>Buy</td>\n",
              "      <td>-48.960000</td>\n",
              "      <td>18000.0</td>\n",
              "      <td>1.00000</td>\n",
              "      <td>3/24/2021</td>\n",
              "      <td>NaN</td>\n",
              "      <td>0.76064</td>\n",
              "      <td>3/24/2021</td>\n",
              "      <td>NaN</td>\n",
              "      <td>0.75792</td>\n",
              "    </tr>\n",
              "    <tr>\n",
              "      <th>2</th>\n",
              "      <td>3/23/2021</td>\n",
              "      <td>M2KM21</td>\n",
              "      <td>Futures</td>\n",
              "      <td>Buy</td>\n",
              "      <td>-277.500000</td>\n",
              "      <td>3.0</td>\n",
              "      <td>5.00000</td>\n",
              "      <td>3/23/2021</td>\n",
              "      <td>NaN</td>\n",
              "      <td>2255.80000</td>\n",
              "      <td>3/23/2021</td>\n",
              "      <td>NaN</td>\n",
              "      <td>2237.30000</td>\n",
              "    </tr>\n",
              "    <tr>\n",
              "      <th>5</th>\n",
              "      <td>3/17/2021</td>\n",
              "      <td>6BM21</td>\n",
              "      <td>Futures</td>\n",
              "      <td>Sell</td>\n",
              "      <td>-250.000000</td>\n",
              "      <td>4.0</td>\n",
              "      <td>62500.00000</td>\n",
              "      <td>3/17/2021</td>\n",
              "      <td>NaN</td>\n",
              "      <td>1.39440</td>\n",
              "      <td>3/17/2021</td>\n",
              "      <td>NaN</td>\n",
              "      <td>1.39540</td>\n",
              "    </tr>\n",
              "    <tr>\n",
              "      <th>6</th>\n",
              "      <td>3/17/2021</td>\n",
              "      <td>6BM21</td>\n",
              "      <td>Futures</td>\n",
              "      <td>Sell</td>\n",
              "      <td>-168.750000</td>\n",
              "      <td>9.0</td>\n",
              "      <td>62500.00000</td>\n",
              "      <td>3/17/2021</td>\n",
              "      <td>NaN</td>\n",
              "      <td>1.39370</td>\n",
              "      <td>3/17/2021</td>\n",
              "      <td>NaN</td>\n",
              "      <td>1.39400</td>\n",
              "    </tr>\n",
              "    <tr>\n",
              "      <th>9</th>\n",
              "      <td>3/17/2021</td>\n",
              "      <td>ZBM21</td>\n",
              "      <td>Futures</td>\n",
              "      <td>Buy</td>\n",
              "      <td>-252.500000</td>\n",
              "      <td>2.0</td>\n",
              "      <td>1000.00000</td>\n",
              "      <td>3/17/2021</td>\n",
              "      <td>NaN</td>\n",
              "      <td>155.65625</td>\n",
              "      <td>3/17/2021</td>\n",
              "      <td>NaN</td>\n",
              "      <td>155.53000</td>\n",
              "    </tr>\n",
              "    <tr>\n",
              "      <th>10</th>\n",
              "      <td>3/17/2021</td>\n",
              "      <td>ZFM21</td>\n",
              "      <td>Futures</td>\n",
              "      <td>Sell</td>\n",
              "      <td>-270.000000</td>\n",
              "      <td>6.0</td>\n",
              "      <td>1000.00000</td>\n",
              "      <td>3/17/2021</td>\n",
              "      <td>NaN</td>\n",
              "      <td>123.94500</td>\n",
              "      <td>3/17/2021</td>\n",
              "      <td>NaN</td>\n",
              "      <td>123.99000</td>\n",
              "    </tr>\n",
              "    <tr>\n",
              "      <th>11</th>\n",
              "      <td>3/17/2021</td>\n",
              "      <td>ZNM21</td>\n",
              "      <td>Futures</td>\n",
              "      <td>Buy</td>\n",
              "      <td>-281.250000</td>\n",
              "      <td>3.0</td>\n",
              "      <td>1000.00000</td>\n",
              "      <td>3/17/2021</td>\n",
              "      <td>NaN</td>\n",
              "      <td>131.84375</td>\n",
              "      <td>3/17/2021</td>\n",
              "      <td>NaN</td>\n",
              "      <td>131.75000</td>\n",
              "    </tr>\n",
              "    <tr>\n",
              "      <th>12</th>\n",
              "      <td>3/16/2021</td>\n",
              "      <td>CLJ21</td>\n",
              "      <td>Futures</td>\n",
              "      <td>Buy</td>\n",
              "      <td>-260.000000</td>\n",
              "      <td>2.0</td>\n",
              "      <td>1000.00000</td>\n",
              "      <td>3/16/2021</td>\n",
              "      <td>NaN</td>\n",
              "      <td>63.96000</td>\n",
              "      <td>3/16/2021</td>\n",
              "      <td>NaN</td>\n",
              "      <td>63.83000</td>\n",
              "    </tr>\n",
              "    <tr>\n",
              "      <th>13</th>\n",
              "      <td>3/16/2021</td>\n",
              "      <td>HGK21</td>\n",
              "      <td>Futures</td>\n",
              "      <td>Buy</td>\n",
              "      <td>-300.000000</td>\n",
              "      <td>2.0</td>\n",
              "      <td>25000.00000</td>\n",
              "      <td>3/16/2021</td>\n",
              "      <td>NaN</td>\n",
              "      <td>4.08050</td>\n",
              "      <td>3/16/2021</td>\n",
              "      <td>NaN</td>\n",
              "      <td>4.07450</td>\n",
              "    </tr>\n",
              "    <tr>\n",
              "      <th>14</th>\n",
              "      <td>3/16/2021</td>\n",
              "      <td>SIK21</td>\n",
              "      <td>Futures</td>\n",
              "      <td>Buy</td>\n",
              "      <td>-300.000000</td>\n",
              "      <td>1.0</td>\n",
              "      <td>5000.00000</td>\n",
              "      <td>3/16/2021</td>\n",
              "      <td>NaN</td>\n",
              "      <td>26.01500</td>\n",
              "      <td>3/16/2021</td>\n",
              "      <td>NaN</td>\n",
              "      <td>25.95500</td>\n",
              "    </tr>\n",
              "    <tr>\n",
              "      <th>16</th>\n",
              "      <td>3/15/2021</td>\n",
              "      <td>NQM21</td>\n",
              "      <td>Futures</td>\n",
              "      <td>Sell</td>\n",
              "      <td>-300.000000</td>\n",
              "      <td>1.0</td>\n",
              "      <td>20.00000</td>\n",
              "      <td>3/15/2021</td>\n",
              "      <td>9:50 AM</td>\n",
              "      <td>12964.50000</td>\n",
              "      <td>3/15/2021</td>\n",
              "      <td>10:00 AM</td>\n",
              "      <td>12979.50000</td>\n",
              "    </tr>\n",
              "    <tr>\n",
              "      <th>18</th>\n",
              "      <td>3/15/2021</td>\n",
              "      <td>NQJ21</td>\n",
              "      <td>Futures</td>\n",
              "      <td>Buy</td>\n",
              "      <td>-300.000000</td>\n",
              "      <td>1.0</td>\n",
              "      <td>20.00000</td>\n",
              "      <td>3/15/2021</td>\n",
              "      <td>NaN</td>\n",
              "      <td>12906.25000</td>\n",
              "      <td>3/15/2021</td>\n",
              "      <td>NaN</td>\n",
              "      <td>12891.25000</td>\n",
              "    </tr>\n",
              "    <tr>\n",
              "      <th>20</th>\n",
              "      <td>3/10/2021</td>\n",
              "      <td>AUDCAD</td>\n",
              "      <td>Forex</td>\n",
              "      <td>Sell</td>\n",
              "      <td>-48.150000</td>\n",
              "      <td>45000.0</td>\n",
              "      <td>1.00000</td>\n",
              "      <td>3/10/2021</td>\n",
              "      <td>NaN</td>\n",
              "      <td>0.97674</td>\n",
              "      <td>3/10/2021</td>\n",
              "      <td>NaN</td>\n",
              "      <td>0.97781</td>\n",
              "    </tr>\n",
              "    <tr>\n",
              "      <th>21</th>\n",
              "      <td>3/10/2021</td>\n",
              "      <td>MNQH21</td>\n",
              "      <td>Futures</td>\n",
              "      <td>Buy</td>\n",
              "      <td>-285.000000</td>\n",
              "      <td>6.0</td>\n",
              "      <td>2.00000</td>\n",
              "      <td>3/10/2021</td>\n",
              "      <td>NaN</td>\n",
              "      <td>12965.00000</td>\n",
              "      <td>3/10/2021</td>\n",
              "      <td>NaN</td>\n",
              "      <td>12941.25000</td>\n",
              "    </tr>\n",
              "    <tr>\n",
              "      <th>24</th>\n",
              "      <td>3/3/2021</td>\n",
              "      <td>EURAUD</td>\n",
              "      <td>Forex</td>\n",
              "      <td>Sell</td>\n",
              "      <td>-45.456727</td>\n",
              "      <td>49000.0</td>\n",
              "      <td>0.77957</td>\n",
              "      <td>3/3/2021</td>\n",
              "      <td>NaN</td>\n",
              "      <td>1.54833</td>\n",
              "      <td>3/3/2021</td>\n",
              "      <td>NaN</td>\n",
              "      <td>1.54952</td>\n",
              "    </tr>\n",
              "    <tr>\n",
              "      <th>29</th>\n",
              "      <td>3/1/2021</td>\n",
              "      <td>GCH21</td>\n",
              "      <td>Futures</td>\n",
              "      <td>Buy</td>\n",
              "      <td>-300.000000</td>\n",
              "      <td>2.0</td>\n",
              "      <td>100.00000</td>\n",
              "      <td>3/1/2021</td>\n",
              "      <td>NaN</td>\n",
              "      <td>1736.70000</td>\n",
              "      <td>3/1/2021</td>\n",
              "      <td>NaN</td>\n",
              "      <td>1735.20000</td>\n",
              "    </tr>\n",
              "    <tr>\n",
              "      <th>30</th>\n",
              "      <td>3/1/2021</td>\n",
              "      <td>MNQH21</td>\n",
              "      <td>Futures</td>\n",
              "      <td>Sell</td>\n",
              "      <td>-308.000000</td>\n",
              "      <td>2.0</td>\n",
              "      <td>2.00000</td>\n",
              "      <td>3/1/2021</td>\n",
              "      <td>NaN</td>\n",
              "      <td>13217.25000</td>\n",
              "      <td>3/1/2021</td>\n",
              "      <td>NaN</td>\n",
              "      <td>13294.25000</td>\n",
              "    </tr>\n",
              "    <tr>\n",
              "      <th>32</th>\n",
              "      <td>2/25/2021</td>\n",
              "      <td>EURUSD</td>\n",
              "      <td>Forex</td>\n",
              "      <td>Sell</td>\n",
              "      <td>-48.750000</td>\n",
              "      <td>25000.0</td>\n",
              "      <td>1.00000</td>\n",
              "      <td>2/25/2021</td>\n",
              "      <td>4:45 AM</td>\n",
              "      <td>1.22063</td>\n",
              "      <td>2/25/2021</td>\n",
              "      <td>6:15 PM</td>\n",
              "      <td>1.22258</td>\n",
              "    </tr>\n",
              "    <tr>\n",
              "      <th>33</th>\n",
              "      <td>2/25/2021</td>\n",
              "      <td>6CH21</td>\n",
              "      <td>Futures</td>\n",
              "      <td>Buy</td>\n",
              "      <td>-235.000000</td>\n",
              "      <td>1.0</td>\n",
              "      <td>100000.00000</td>\n",
              "      <td>2/25/2021</td>\n",
              "      <td>2:00 PM</td>\n",
              "      <td>0.79590</td>\n",
              "      <td>2/25/2021</td>\n",
              "      <td>4:30 PM</td>\n",
              "      <td>0.79355</td>\n",
              "    </tr>\n",
              "    <tr>\n",
              "      <th>34</th>\n",
              "      <td>2/25/2021</td>\n",
              "      <td>6NH21</td>\n",
              "      <td>Futures</td>\n",
              "      <td>Buy</td>\n",
              "      <td>-320.000000</td>\n",
              "      <td>2.0</td>\n",
              "      <td>100000.00000</td>\n",
              "      <td>2/25/2021</td>\n",
              "      <td>2:30 PM</td>\n",
              "      <td>0.73770</td>\n",
              "      <td>2/25/2021</td>\n",
              "      <td>4:30 PM</td>\n",
              "      <td>0.73610</td>\n",
              "    </tr>\n",
              "    <tr>\n",
              "      <th>35</th>\n",
              "      <td>2/25/2021</td>\n",
              "      <td>6AH21</td>\n",
              "      <td>Futures</td>\n",
              "      <td>Buy</td>\n",
              "      <td>-210.000000</td>\n",
              "      <td>1.0</td>\n",
              "      <td>100000.00000</td>\n",
              "      <td>2/25/2021</td>\n",
              "      <td>1:45 PM</td>\n",
              "      <td>0.79185</td>\n",
              "      <td>2/25/2021</td>\n",
              "      <td>2:30 PM</td>\n",
              "      <td>0.78975</td>\n",
              "    </tr>\n",
              "    <tr>\n",
              "      <th>36</th>\n",
              "      <td>2/25/2021</td>\n",
              "      <td>6BH21</td>\n",
              "      <td>Futures</td>\n",
              "      <td>Buy</td>\n",
              "      <td>-287.500000</td>\n",
              "      <td>2.0</td>\n",
              "      <td>62500.00000</td>\n",
              "      <td>2/25/2021</td>\n",
              "      <td>1:30 PM</td>\n",
              "      <td>1.40750</td>\n",
              "      <td>2/25/2021</td>\n",
              "      <td>2:30 PM</td>\n",
              "      <td>1.40520</td>\n",
              "    </tr>\n",
              "    <tr>\n",
              "      <th>37</th>\n",
              "      <td>2/25/2021</td>\n",
              "      <td>6CH21</td>\n",
              "      <td>Futures</td>\n",
              "      <td>Buy</td>\n",
              "      <td>-240.000000</td>\n",
              "      <td>3.0</td>\n",
              "      <td>100000.00000</td>\n",
              "      <td>2/25/2021</td>\n",
              "      <td>1:45 PM</td>\n",
              "      <td>0.74060</td>\n",
              "      <td>2/25/2021</td>\n",
              "      <td>2:30 PM</td>\n",
              "      <td>0.73980</td>\n",
              "    </tr>\n",
              "    <tr>\n",
              "      <th>39</th>\n",
              "      <td>2/25/2021</td>\n",
              "      <td>6AH21</td>\n",
              "      <td>Futures</td>\n",
              "      <td>Buy</td>\n",
              "      <td>-255.000000</td>\n",
              "      <td>3.0</td>\n",
              "      <td>100000.00000</td>\n",
              "      <td>2/25/2021</td>\n",
              "      <td>1:15 PM</td>\n",
              "      <td>0.79435</td>\n",
              "      <td>2/25/2021</td>\n",
              "      <td>1:25 PM</td>\n",
              "      <td>0.79350</td>\n",
              "    </tr>\n",
              "    <tr>\n",
              "      <th>40</th>\n",
              "      <td>2/25/2021</td>\n",
              "      <td>HOJ21</td>\n",
              "      <td>Futures</td>\n",
              "      <td>Sell</td>\n",
              "      <td>-226.800000</td>\n",
              "      <td>3.0</td>\n",
              "      <td>42000.00000</td>\n",
              "      <td>2/25/2021</td>\n",
              "      <td>12:20 PM</td>\n",
              "      <td>1.90360</td>\n",
              "      <td>2/25/2021</td>\n",
              "      <td>12:25 PM</td>\n",
              "      <td>1.90540</td>\n",
              "    </tr>\n",
              "    <tr>\n",
              "      <th>41</th>\n",
              "      <td>2/25/2021</td>\n",
              "      <td>6CH21</td>\n",
              "      <td>Futures</td>\n",
              "      <td>Buy</td>\n",
              "      <td>-230.000000</td>\n",
              "      <td>2.0</td>\n",
              "      <td>100000.00000</td>\n",
              "      <td>2/25/2021</td>\n",
              "      <td>NaN</td>\n",
              "      <td>0.79830</td>\n",
              "      <td>2/25/2021</td>\n",
              "      <td>NaN</td>\n",
              "      <td>0.79715</td>\n",
              "    </tr>\n",
              "    <tr>\n",
              "      <th>42</th>\n",
              "      <td>2/25/2021</td>\n",
              "      <td>GBPAUD</td>\n",
              "      <td>Forex</td>\n",
              "      <td>Buy</td>\n",
              "      <td>-46.900000</td>\n",
              "      <td>14000.0</td>\n",
              "      <td>1.00000</td>\n",
              "      <td>2/25/2021</td>\n",
              "      <td>NaN</td>\n",
              "      <td>1.77338</td>\n",
              "      <td>2/25/2021</td>\n",
              "      <td>NaN</td>\n",
              "      <td>1.77003</td>\n",
              "    </tr>\n",
              "    <tr>\n",
              "      <th>45</th>\n",
              "      <td>2/24/2021</td>\n",
              "      <td>GBPAUD</td>\n",
              "      <td>Forex</td>\n",
              "      <td>Buy</td>\n",
              "      <td>-34.000000</td>\n",
              "      <td>10000.0</td>\n",
              "      <td>1.00000</td>\n",
              "      <td>2/23/2021</td>\n",
              "      <td>12:15 PM</td>\n",
              "      <td>1.77830</td>\n",
              "      <td>2/24/2021</td>\n",
              "      <td>4:30 PM</td>\n",
              "      <td>1.77490</td>\n",
              "    </tr>\n",
              "    <tr>\n",
              "      <th>47</th>\n",
              "      <td>2/24/2021</td>\n",
              "      <td>GBPAUD</td>\n",
              "      <td>Forex</td>\n",
              "      <td>Buy</td>\n",
              "      <td>-50.318631</td>\n",
              "      <td>19000.0</td>\n",
              "      <td>0.79530</td>\n",
              "      <td>2/24/2021</td>\n",
              "      <td>7:15 AM</td>\n",
              "      <td>1.77831</td>\n",
              "      <td>2/24/2021</td>\n",
              "      <td>11:45 AM</td>\n",
              "      <td>1.77498</td>\n",
              "    </tr>\n",
              "    <tr>\n",
              "      <th>48</th>\n",
              "      <td>2/23/2021</td>\n",
              "      <td>MESH21</td>\n",
              "      <td>Futures</td>\n",
              "      <td>Buy</td>\n",
              "      <td>-300.000000</td>\n",
              "      <td>5.0</td>\n",
              "      <td>5.00000</td>\n",
              "      <td>2/23/2021</td>\n",
              "      <td>10:40 AM</td>\n",
              "      <td>3831.50000</td>\n",
              "      <td>2/23/2021</td>\n",
              "      <td>10:45 PM</td>\n",
              "      <td>3819.50000</td>\n",
              "    </tr>\n",
              "    <tr>\n",
              "      <th>49</th>\n",
              "      <td>2/24/2021</td>\n",
              "      <td>PLH21</td>\n",
              "      <td>Futures</td>\n",
              "      <td>Buy</td>\n",
              "      <td>-270.000000</td>\n",
              "      <td>3.0</td>\n",
              "      <td>50.00000</td>\n",
              "      <td>2/24/2021</td>\n",
              "      <td>NaN</td>\n",
              "      <td>1264.30000</td>\n",
              "      <td>2/24/2021</td>\n",
              "      <td>NaN</td>\n",
              "      <td>1262.50000</td>\n",
              "    </tr>\n",
              "    <tr>\n",
              "      <th>52</th>\n",
              "      <td>2/23/2021</td>\n",
              "      <td>ESH21</td>\n",
              "      <td>Futures</td>\n",
              "      <td>Buy</td>\n",
              "      <td>-300.000000</td>\n",
              "      <td>1.0</td>\n",
              "      <td>50.00000</td>\n",
              "      <td>2/23/2021</td>\n",
              "      <td>NaN</td>\n",
              "      <td>3858.00000</td>\n",
              "      <td>2/23/2021</td>\n",
              "      <td>NaN</td>\n",
              "      <td>3852.00000</td>\n",
              "    </tr>\n",
              "    <tr>\n",
              "      <th>53</th>\n",
              "      <td>2/22/2021</td>\n",
              "      <td>MNQH21</td>\n",
              "      <td>Futures</td>\n",
              "      <td>Buy</td>\n",
              "      <td>-282.100000</td>\n",
              "      <td>3.0</td>\n",
              "      <td>2.00000</td>\n",
              "      <td>2/22/2021</td>\n",
              "      <td>4:30 AM</td>\n",
              "      <td>13387.00000</td>\n",
              "      <td>2/22/2021</td>\n",
              "      <td>11:15 AM</td>\n",
              "      <td>13340.00000</td>\n",
              "    </tr>\n",
              "  </tbody>\n",
              "</table>\n",
              "</div>"
            ],
            "text/plain": [
              "   Close_Date  Symbol    Asset  ...  Exit_Date  Exit_Time   Exit_Price\n",
              "1   3/24/2021  AUDUSD    Forex  ...  3/24/2021        NaN      0.75792\n",
              "2   3/23/2021  M2KM21  Futures  ...  3/23/2021        NaN   2237.30000\n",
              "5   3/17/2021   6BM21  Futures  ...  3/17/2021        NaN      1.39540\n",
              "6   3/17/2021   6BM21  Futures  ...  3/17/2021        NaN      1.39400\n",
              "9   3/17/2021   ZBM21  Futures  ...  3/17/2021        NaN    155.53000\n",
              "10  3/17/2021   ZFM21  Futures  ...  3/17/2021        NaN    123.99000\n",
              "11  3/17/2021   ZNM21  Futures  ...  3/17/2021        NaN    131.75000\n",
              "12  3/16/2021   CLJ21  Futures  ...  3/16/2021        NaN     63.83000\n",
              "13  3/16/2021   HGK21  Futures  ...  3/16/2021        NaN      4.07450\n",
              "14  3/16/2021   SIK21  Futures  ...  3/16/2021        NaN     25.95500\n",
              "16  3/15/2021   NQM21  Futures  ...  3/15/2021   10:00 AM  12979.50000\n",
              "18  3/15/2021   NQJ21  Futures  ...  3/15/2021        NaN  12891.25000\n",
              "20  3/10/2021  AUDCAD    Forex  ...  3/10/2021        NaN      0.97781\n",
              "21  3/10/2021  MNQH21  Futures  ...  3/10/2021        NaN  12941.25000\n",
              "24   3/3/2021  EURAUD    Forex  ...   3/3/2021        NaN      1.54952\n",
              "29   3/1/2021   GCH21  Futures  ...   3/1/2021        NaN   1735.20000\n",
              "30   3/1/2021  MNQH21  Futures  ...   3/1/2021        NaN  13294.25000\n",
              "32  2/25/2021  EURUSD    Forex  ...  2/25/2021    6:15 PM      1.22258\n",
              "33  2/25/2021   6CH21  Futures  ...  2/25/2021    4:30 PM      0.79355\n",
              "34  2/25/2021   6NH21  Futures  ...  2/25/2021    4:30 PM      0.73610\n",
              "35  2/25/2021   6AH21  Futures  ...  2/25/2021    2:30 PM      0.78975\n",
              "36  2/25/2021   6BH21  Futures  ...  2/25/2021    2:30 PM      1.40520\n",
              "37  2/25/2021   6CH21  Futures  ...  2/25/2021    2:30 PM      0.73980\n",
              "39  2/25/2021   6AH21  Futures  ...  2/25/2021    1:25 PM      0.79350\n",
              "40  2/25/2021   HOJ21  Futures  ...  2/25/2021   12:25 PM      1.90540\n",
              "41  2/25/2021   6CH21  Futures  ...  2/25/2021        NaN      0.79715\n",
              "42  2/25/2021  GBPAUD    Forex  ...  2/25/2021        NaN      1.77003\n",
              "45  2/24/2021  GBPAUD    Forex  ...  2/24/2021    4:30 PM      1.77490\n",
              "47  2/24/2021  GBPAUD    Forex  ...  2/24/2021   11:45 AM      1.77498\n",
              "48  2/23/2021  MESH21  Futures  ...  2/23/2021   10:45 PM   3819.50000\n",
              "49  2/24/2021   PLH21  Futures  ...  2/24/2021        NaN   1262.50000\n",
              "52  2/23/2021   ESH21  Futures  ...  2/23/2021        NaN   3852.00000\n",
              "53  2/22/2021  MNQH21  Futures  ...  2/22/2021   11:15 AM  13340.00000\n",
              "\n",
              "[33 rows x 13 columns]"
            ]
          },
          "metadata": {},
          "execution_count": 31
        }
      ]
    },
    {
      "cell_type": "code",
      "metadata": {
        "colab": {
          "base_uri": "https://localhost:8080/"
        },
        "id": "Ct71gOxm5-qn",
        "outputId": "69abe7b6-544f-49bd-b91d-179bada79ce8"
      },
      "source": [
        "Trades_loss.shape[0]"
      ],
      "execution_count": 32,
      "outputs": [
        {
          "output_type": "execute_result",
          "data": {
            "text/plain": [
              "33"
            ]
          },
          "metadata": {},
          "execution_count": 32
        }
      ]
    },
    {
      "cell_type": "code",
      "metadata": {
        "colab": {
          "base_uri": "https://localhost:8080/"
        },
        "id": "6WU_-3Ta6Drh",
        "outputId": "4801bebf-dadc-428a-fb61-911b810f1abe"
      },
      "source": [
        "Trades_loss['Profit_loss'].mean()"
      ],
      "execution_count": 33,
      "outputs": [
        {
          "output_type": "execute_result",
          "data": {
            "text/plain": [
              "-222.17985932424244"
            ]
          },
          "metadata": {},
          "execution_count": 33
        }
      ]
    },
    {
      "cell_type": "code",
      "metadata": {
        "colab": {
          "base_uri": "https://localhost:8080/"
        },
        "id": "nLRFZjpCx95c",
        "outputId": "b5a5afad-dfb6-46b2-d4be-22a195595a31"
      },
      "source": [
        "import math\n",
        "x = 645\n",
        "y = 222\n",
        "div = math.gcd(x, y)\n",
        "x/y"
      ],
      "execution_count": 23,
      "outputs": [
        {
          "output_type": "execute_result",
          "data": {
            "text/plain": [
              "2.9054054054054053"
            ]
          },
          "metadata": {},
          "execution_count": 23
        }
      ]
    },
    {
      "cell_type": "markdown",
      "metadata": {
        "id": "kIZg9y2Q6O9C"
      },
      "source": [
        "I had 33 losing trades for an average loss of $222. The ratio of profits to losses is 2.9, just shy of my 3:1 goal."
      ]
    },
    {
      "cell_type": "markdown",
      "metadata": {
        "id": "FcSpJjQdw15d"
      },
      "source": [
        "I won 39% of my trades, which is above my target of 3:1, or 33%. "
      ]
    },
    {
      "cell_type": "code",
      "metadata": {
        "colab": {
          "base_uri": "https://localhost:8080/"
        },
        "id": "EsHqCDUi1mTw",
        "outputId": "90bd2b41-5fc6-4b1b-c1b6-46a5578df173"
      },
      "source": [
        "def percentage(part, whole):\n",
        "  percentage = 100 * float(part)/float(whole)\n",
        "  return str(percentage) + \"%\"\n",
        "\n",
        "print(percentage(21, 54))"
      ],
      "execution_count": 35,
      "outputs": [
        {
          "output_type": "stream",
          "name": "stdout",
          "text": [
            "38.888888888888886%\n"
          ]
        }
      ]
    },
    {
      "cell_type": "markdown",
      "metadata": {
        "id": "4so8HTNuz3zq"
      },
      "source": [
        "My most profitable trade was the Micro E-mini Nasdaq-100 on February 25, making $1662."
      ]
    },
    {
      "cell_type": "code",
      "metadata": {
        "colab": {
          "base_uri": "https://localhost:8080/",
          "height": 101
        },
        "id": "7iJnHf3XAAMj",
        "outputId": "e9f9360c-d26b-45c7-e3af-195d353e3a77"
      },
      "source": [
        "cond = Trades['Profit_loss'] == Trades['Profit_loss'].max()\n",
        "\n",
        "Trades.loc[cond]"
      ],
      "execution_count": 34,
      "outputs": [
        {
          "output_type": "execute_result",
          "data": {
            "text/html": [
              "<div>\n",
              "<style scoped>\n",
              "    .dataframe tbody tr th:only-of-type {\n",
              "        vertical-align: middle;\n",
              "    }\n",
              "\n",
              "    .dataframe tbody tr th {\n",
              "        vertical-align: top;\n",
              "    }\n",
              "\n",
              "    .dataframe thead th {\n",
              "        text-align: right;\n",
              "    }\n",
              "</style>\n",
              "<table border=\"1\" class=\"dataframe\">\n",
              "  <thead>\n",
              "    <tr style=\"text-align: right;\">\n",
              "      <th></th>\n",
              "      <th>Close_Date</th>\n",
              "      <th>Symbol</th>\n",
              "      <th>Asset</th>\n",
              "      <th>Action</th>\n",
              "      <th>Profit_loss</th>\n",
              "      <th>Size</th>\n",
              "      <th>Point_Value</th>\n",
              "      <th>Entry_Date</th>\n",
              "      <th>Entry_Time</th>\n",
              "      <th>Entry_Price</th>\n",
              "      <th>Exit_Date</th>\n",
              "      <th>Exit_Time</th>\n",
              "      <th>Exit_Price</th>\n",
              "    </tr>\n",
              "  </thead>\n",
              "  <tbody>\n",
              "    <tr>\n",
              "      <th>38</th>\n",
              "      <td>2/25/2021</td>\n",
              "      <td>MNQH21</td>\n",
              "      <td>Futures</td>\n",
              "      <td>Sell</td>\n",
              "      <td>1662.0</td>\n",
              "      <td>4.0</td>\n",
              "      <td>2.0</td>\n",
              "      <td>2/25/2021</td>\n",
              "      <td>12:00 PM</td>\n",
              "      <td>13140.25</td>\n",
              "      <td>2/25/2021</td>\n",
              "      <td>1:30 PM</td>\n",
              "      <td>12932.5</td>\n",
              "    </tr>\n",
              "  </tbody>\n",
              "</table>\n",
              "</div>"
            ],
            "text/plain": [
              "   Close_Date  Symbol    Asset  ...  Exit_Date  Exit_Time  Exit_Price\n",
              "38  2/25/2021  MNQH21  Futures  ...  2/25/2021    1:30 PM     12932.5\n",
              "\n",
              "[1 rows x 13 columns]"
            ]
          },
          "metadata": {},
          "execution_count": 34
        }
      ]
    },
    {
      "cell_type": "markdown",
      "metadata": {
        "id": "b1QjTsVl0SuR"
      },
      "source": [
        "My least profitable trade was the New Zealand dollar on February 25, losing $320."
      ]
    },
    {
      "cell_type": "code",
      "metadata": {
        "colab": {
          "base_uri": "https://localhost:8080/",
          "height": 101
        },
        "id": "qIF5K8l0Amjr",
        "outputId": "3e136bd2-6618-4d95-a762-c63b5f93f0a1"
      },
      "source": [
        "cond = Trades['Profit_loss'] == Trades['Profit_loss'].min()\n",
        "\n",
        "Trades.loc[cond]"
      ],
      "execution_count": 36,
      "outputs": [
        {
          "output_type": "execute_result",
          "data": {
            "text/html": [
              "<div>\n",
              "<style scoped>\n",
              "    .dataframe tbody tr th:only-of-type {\n",
              "        vertical-align: middle;\n",
              "    }\n",
              "\n",
              "    .dataframe tbody tr th {\n",
              "        vertical-align: top;\n",
              "    }\n",
              "\n",
              "    .dataframe thead th {\n",
              "        text-align: right;\n",
              "    }\n",
              "</style>\n",
              "<table border=\"1\" class=\"dataframe\">\n",
              "  <thead>\n",
              "    <tr style=\"text-align: right;\">\n",
              "      <th></th>\n",
              "      <th>Close_Date</th>\n",
              "      <th>Symbol</th>\n",
              "      <th>Asset</th>\n",
              "      <th>Action</th>\n",
              "      <th>Profit_loss</th>\n",
              "      <th>Size</th>\n",
              "      <th>Point_Value</th>\n",
              "      <th>Entry_Date</th>\n",
              "      <th>Entry_Time</th>\n",
              "      <th>Entry_Price</th>\n",
              "      <th>Exit_Date</th>\n",
              "      <th>Exit_Time</th>\n",
              "      <th>Exit_Price</th>\n",
              "    </tr>\n",
              "  </thead>\n",
              "  <tbody>\n",
              "    <tr>\n",
              "      <th>34</th>\n",
              "      <td>2/25/2021</td>\n",
              "      <td>6NH21</td>\n",
              "      <td>Futures</td>\n",
              "      <td>Buy</td>\n",
              "      <td>-320.0</td>\n",
              "      <td>2.0</td>\n",
              "      <td>100000.0</td>\n",
              "      <td>2/25/2021</td>\n",
              "      <td>2:30 PM</td>\n",
              "      <td>0.7377</td>\n",
              "      <td>2/25/2021</td>\n",
              "      <td>4:30 PM</td>\n",
              "      <td>0.7361</td>\n",
              "    </tr>\n",
              "  </tbody>\n",
              "</table>\n",
              "</div>"
            ],
            "text/plain": [
              "   Close_Date Symbol    Asset  ...  Exit_Date  Exit_Time  Exit_Price\n",
              "34  2/25/2021  6NH21  Futures  ...  2/25/2021    4:30 PM      0.7361\n",
              "\n",
              "[1 rows x 13 columns]"
            ]
          },
          "metadata": {},
          "execution_count": 36
        }
      ]
    },
    {
      "cell_type": "markdown",
      "metadata": {
        "id": "614Jw57Z0CAe"
      },
      "source": [
        "Even though I had more losers than winners, I was still able to profit 6219. This is achieved by keeping my losers small, and letting the winners run. I need to be more diligent in maintaining stop losses of $300 or less.  "
      ]
    },
    {
      "cell_type": "code",
      "metadata": {
        "colab": {
          "base_uri": "https://localhost:8080/"
        },
        "id": "naqVkD3G_nck",
        "outputId": "8efb8e42-9def-474f-b982-c548fe076e45"
      },
      "source": [
        "Total_profits = Trades['Profit_loss'].sum()\n",
        "Total_profits"
      ],
      "execution_count": null,
      "outputs": [
        {
          "output_type": "execute_result",
          "data": {
            "text/plain": [
              "6218.831516699999"
            ]
          },
          "metadata": {},
          "execution_count": 55
        }
      ]
    },
    {
      "cell_type": "code",
      "metadata": {
        "colab": {
          "base_uri": "https://localhost:8080/",
          "height": 392
        },
        "id": "hXcna8Mq2w8w",
        "outputId": "5389b77f-e169-4166-d5c7-813bf6393984"
      },
      "source": [
        "Trades['Profit_loss'].plot(kind='hist', bins=30, figsize=(14,6))"
      ],
      "execution_count": 24,
      "outputs": [
        {
          "output_type": "execute_result",
          "data": {
            "text/plain": [
              "<matplotlib.axes._subplots.AxesSubplot at 0x7f359f142c50>"
            ]
          },
          "metadata": {},
          "execution_count": 24
        },
        {
          "output_type": "display_data",
          "data": {
            "image/png": "[encoded data removed]",
            "text/plain": [
              "<Figure size 1008x432 with 1 Axes>"
            ]
          },
          "metadata": {
            "needs_background": "light"
          }
        }
      ]
    },
    {
      "cell_type": "code",
      "metadata": {
        "colab": {
          "base_uri": "https://localhost:8080/",
          "height": 412
        },
        "id": "6KQM6Sou2KTg",
        "outputId": "03e6d93e-3ba3-4132-d417-696994c21831"
      },
      "source": [
        "Trades['Profit_loss'].plot(kind='box', vert=False, figsize=(14,6))"
      ],
      "execution_count": null,
      "outputs": [
        {
          "output_type": "execute_result",
          "data": {
            "text/plain": [
              "<matplotlib.axes._subplots.AxesSubplot at 0x7f3660ee5d50>"
            ]
          },
          "metadata": {},
          "execution_count": 48
        },
        {
          "output_type": "display_data",
          "data": {
            "image/png": "[encoded data removed]",
            "text/plain": [
              "<Figure size 1008x432 with 1 Axes>"
            ]
          },
          "metadata": {
            "needs_background": "light"
          }
        }
      ]
    },
    {
      "cell_type": "code",
      "metadata": {
        "colab": {
          "base_uri": "https://localhost:8080/",
          "height": 392
        },
        "id": "C5y9BcGl1rm5",
        "outputId": "86bc40ea-aa4e-42ff-ef03-1b83d46dd018"
      },
      "source": [
        "Trades['Profit_loss'].plot(kind='kde', figsize=(10,6))"
      ],
      "execution_count": null,
      "outputs": [
        {
          "output_type": "execute_result",
          "data": {
            "text/plain": [
              "<matplotlib.axes._subplots.AxesSubplot at 0x7f36616938d0>"
            ]
          },
          "metadata": {},
          "execution_count": 47
        },
        {
          "output_type": "display_data",
          "data": {
            "image/png": "[encoded data removed]",
            "text/plain": [
              "<Figure size 720x432 with 1 Axes>"
            ]
          },
          "metadata": {
            "needs_background": "light"
          }
        }
      ]
    }
  ]
}